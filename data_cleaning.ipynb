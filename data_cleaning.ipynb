{
 "cells": [
  {
   "cell_type": "markdown",
   "metadata": {},
   "source": [
    "# Data Cleaning and Validation\n",
    "\n",
    "Clean up the data set below and identify\n",
    "\n",
    "- five most common journals; \n",
    "- total articles for each;\n",
    "- mean, median and std for cost per articles for each;\n",
    "- bonus: identify prices paid by subject area"
   ]
  },
  {
   "cell_type": "code",
   "execution_count": 1,
   "metadata": {
    "collapsed": true
   },
   "outputs": [],
   "source": [
    "import pandas as pd\n",
    "import numpy as np\n",
    "import matplotlib.pyplot as plt\n",
    "%matplotlib inline"
   ]
  },
  {
   "cell_type": "markdown",
   "metadata": {},
   "source": [
    "## Data Cleaning"
   ]
  },
  {
   "cell_type": "markdown",
   "metadata": {},
   "source": [
    "### 1). Load data into dataframe, account for unicode errors, get basic info about the data:"
   ]
  },
  {
   "cell_type": "code",
   "execution_count": 2,
   "metadata": {
    "collapsed": false
   },
   "outputs": [
    {
     "data": {
      "text/html": [
       "<div>\n",
       "<table border=\"1\" class=\"dataframe\">\n",
       "  <thead>\n",
       "    <tr style=\"text-align: right;\">\n",
       "      <th></th>\n",
       "      <th>PMID/PMCID</th>\n",
       "      <th>Publisher</th>\n",
       "      <th>Journal title</th>\n",
       "      <th>Article title</th>\n",
       "      <th>COST (£) charged to Wellcome (inc VAT when charged)</th>\n",
       "    </tr>\n",
       "  </thead>\n",
       "  <tbody>\n",
       "    <tr>\n",
       "      <th>0</th>\n",
       "      <td>NaN</td>\n",
       "      <td>CUP</td>\n",
       "      <td>Psychological Medicine</td>\n",
       "      <td>Reduced parahippocampal cortical thickness in ...</td>\n",
       "      <td>£0.00</td>\n",
       "    </tr>\n",
       "    <tr>\n",
       "      <th>1</th>\n",
       "      <td>PMC3679557</td>\n",
       "      <td>ACS</td>\n",
       "      <td>Biomacromolecules</td>\n",
       "      <td>Structural characterization of a Model Gram-ne...</td>\n",
       "      <td>£2381.04</td>\n",
       "    </tr>\n",
       "    <tr>\n",
       "      <th>2</th>\n",
       "      <td>23043264  PMC3506128</td>\n",
       "      <td>ACS</td>\n",
       "      <td>J Med Chem</td>\n",
       "      <td>Fumaroylamino-4,5-epoxymorphinans and related ...</td>\n",
       "      <td>£642.56</td>\n",
       "    </tr>\n",
       "    <tr>\n",
       "      <th>3</th>\n",
       "      <td>23438330 PMC3646402</td>\n",
       "      <td>ACS</td>\n",
       "      <td>J Med Chem</td>\n",
       "      <td>Orvinols with mixed kappa/mu opioid receptor a...</td>\n",
       "      <td>£669.64</td>\n",
       "    </tr>\n",
       "    <tr>\n",
       "      <th>4</th>\n",
       "      <td>23438216 PMC3601604</td>\n",
       "      <td>ACS</td>\n",
       "      <td>J Org Chem</td>\n",
       "      <td>Regioselective opening of myo-inositol orthoes...</td>\n",
       "      <td>£685.88</td>\n",
       "    </tr>\n",
       "  </tbody>\n",
       "</table>\n",
       "</div>"
      ],
      "text/plain": [
       "              PMID/PMCID Publisher           Journal title  \\\n",
       "0                    NaN       CUP  Psychological Medicine   \n",
       "1             PMC3679557       ACS       Biomacromolecules   \n",
       "2  23043264  PMC3506128        ACS              J Med Chem   \n",
       "3    23438330 PMC3646402       ACS              J Med Chem   \n",
       "4   23438216 PMC3601604        ACS              J Org Chem   \n",
       "\n",
       "                                       Article title  \\\n",
       "0  Reduced parahippocampal cortical thickness in ...   \n",
       "1  Structural characterization of a Model Gram-ne...   \n",
       "2  Fumaroylamino-4,5-epoxymorphinans and related ...   \n",
       "3  Orvinols with mixed kappa/mu opioid receptor a...   \n",
       "4  Regioselective opening of myo-inositol orthoes...   \n",
       "\n",
       "  COST (£) charged to Wellcome (inc VAT when charged)  \n",
       "0                                              £0.00   \n",
       "1                                           £2381.04   \n",
       "2                                            £642.56   \n",
       "3                                            £669.64   \n",
       "4                                            £685.88   "
      ]
     },
     "execution_count": 2,
     "metadata": {},
     "output_type": "execute_result"
    }
   ],
   "source": [
    "# Load dataframe, account for unicode errors: \n",
    "df = pd.read_csv('WELLCOME_APCspend2013_forThinkful.csv', encoding = \"ISO-8859-1\")\n",
    "df.head()"
   ]
  },
  {
   "cell_type": "code",
   "execution_count": 3,
   "metadata": {
    "collapsed": false
   },
   "outputs": [
    {
     "name": "stdout",
     "output_type": "stream",
     "text": [
      "<class 'pandas.core.frame.DataFrame'>\n",
      "RangeIndex: 2127 entries, 0 to 2126\n",
      "Data columns (total 5 columns):\n",
      "PMID/PMCID                                             1928 non-null object\n",
      "Publisher                                              2127 non-null object\n",
      "Journal title                                          2126 non-null object\n",
      "Article title                                          2127 non-null object\n",
      "COST (£) charged to Wellcome (inc VAT when charged)    2127 non-null object\n",
      "dtypes: object(5)\n",
      "memory usage: 83.2+ KB\n"
     ]
    },
    {
     "data": {
      "text/plain": [
       "(2127, 5)"
      ]
     },
     "execution_count": 3,
     "metadata": {},
     "output_type": "execute_result"
    }
   ],
   "source": [
    "df.info()\n",
    "df.shape"
   ]
  },
  {
   "cell_type": "markdown",
   "metadata": {},
   "source": [
    "### 2). Keep only columns we want to work with, rename columns, handle NaNs:"
   ]
  },
  {
   "cell_type": "code",
   "execution_count": 4,
   "metadata": {
    "collapsed": false
   },
   "outputs": [
    {
     "data": {
      "text/html": [
       "<div>\n",
       "<table border=\"1\" class=\"dataframe\">\n",
       "  <thead>\n",
       "    <tr style=\"text-align: right;\">\n",
       "      <th></th>\n",
       "      <th>Publisher</th>\n",
       "      <th>Journal title</th>\n",
       "      <th>Article title</th>\n",
       "      <th>COST (£) charged to Wellcome (inc VAT when charged)</th>\n",
       "    </tr>\n",
       "  </thead>\n",
       "  <tbody>\n",
       "    <tr>\n",
       "      <th>0</th>\n",
       "      <td>CUP</td>\n",
       "      <td>Psychological Medicine</td>\n",
       "      <td>Reduced parahippocampal cortical thickness in ...</td>\n",
       "      <td>£0.00</td>\n",
       "    </tr>\n",
       "    <tr>\n",
       "      <th>1</th>\n",
       "      <td>ACS</td>\n",
       "      <td>Biomacromolecules</td>\n",
       "      <td>Structural characterization of a Model Gram-ne...</td>\n",
       "      <td>£2381.04</td>\n",
       "    </tr>\n",
       "    <tr>\n",
       "      <th>2</th>\n",
       "      <td>ACS</td>\n",
       "      <td>J Med Chem</td>\n",
       "      <td>Fumaroylamino-4,5-epoxymorphinans and related ...</td>\n",
       "      <td>£642.56</td>\n",
       "    </tr>\n",
       "    <tr>\n",
       "      <th>3</th>\n",
       "      <td>ACS</td>\n",
       "      <td>J Med Chem</td>\n",
       "      <td>Orvinols with mixed kappa/mu opioid receptor a...</td>\n",
       "      <td>£669.64</td>\n",
       "    </tr>\n",
       "    <tr>\n",
       "      <th>4</th>\n",
       "      <td>ACS</td>\n",
       "      <td>J Org Chem</td>\n",
       "      <td>Regioselective opening of myo-inositol orthoes...</td>\n",
       "      <td>£685.88</td>\n",
       "    </tr>\n",
       "  </tbody>\n",
       "</table>\n",
       "</div>"
      ],
      "text/plain": [
       "  Publisher           Journal title  \\\n",
       "0       CUP  Psychological Medicine   \n",
       "1       ACS       Biomacromolecules   \n",
       "2       ACS              J Med Chem   \n",
       "3       ACS              J Med Chem   \n",
       "4       ACS              J Org Chem   \n",
       "\n",
       "                                       Article title  \\\n",
       "0  Reduced parahippocampal cortical thickness in ...   \n",
       "1  Structural characterization of a Model Gram-ne...   \n",
       "2  Fumaroylamino-4,5-epoxymorphinans and related ...   \n",
       "3  Orvinols with mixed kappa/mu opioid receptor a...   \n",
       "4  Regioselective opening of myo-inositol orthoes...   \n",
       "\n",
       "  COST (£) charged to Wellcome (inc VAT when charged)  \n",
       "0                                              £0.00   \n",
       "1                                           £2381.04   \n",
       "2                                            £642.56   \n",
       "3                                            £669.64   \n",
       "4                                            £685.88   "
      ]
     },
     "execution_count": 4,
     "metadata": {},
     "output_type": "execute_result"
    }
   ],
   "source": [
    "# keep columns we want to work with:\n",
    "df.drop('PMID/PMCID', axis=1, inplace=True)\n",
    "df.head()"
   ]
  },
  {
   "cell_type": "code",
   "execution_count": 5,
   "metadata": {
    "collapsed": false
   },
   "outputs": [
    {
     "data": {
      "text/html": [
       "<div>\n",
       "<table border=\"1\" class=\"dataframe\">\n",
       "  <thead>\n",
       "    <tr style=\"text-align: right;\">\n",
       "      <th></th>\n",
       "      <th>Publisher</th>\n",
       "      <th>Journal title</th>\n",
       "      <th>Article title</th>\n",
       "      <th>Cost</th>\n",
       "    </tr>\n",
       "  </thead>\n",
       "  <tbody>\n",
       "    <tr>\n",
       "      <th>0</th>\n",
       "      <td>CUP</td>\n",
       "      <td>Psychological Medicine</td>\n",
       "      <td>Reduced parahippocampal cortical thickness in ...</td>\n",
       "      <td>£0.00</td>\n",
       "    </tr>\n",
       "    <tr>\n",
       "      <th>1</th>\n",
       "      <td>ACS</td>\n",
       "      <td>Biomacromolecules</td>\n",
       "      <td>Structural characterization of a Model Gram-ne...</td>\n",
       "      <td>£2381.04</td>\n",
       "    </tr>\n",
       "    <tr>\n",
       "      <th>2</th>\n",
       "      <td>ACS</td>\n",
       "      <td>J Med Chem</td>\n",
       "      <td>Fumaroylamino-4,5-epoxymorphinans and related ...</td>\n",
       "      <td>£642.56</td>\n",
       "    </tr>\n",
       "    <tr>\n",
       "      <th>3</th>\n",
       "      <td>ACS</td>\n",
       "      <td>J Med Chem</td>\n",
       "      <td>Orvinols with mixed kappa/mu opioid receptor a...</td>\n",
       "      <td>£669.64</td>\n",
       "    </tr>\n",
       "    <tr>\n",
       "      <th>4</th>\n",
       "      <td>ACS</td>\n",
       "      <td>J Org Chem</td>\n",
       "      <td>Regioselective opening of myo-inositol orthoes...</td>\n",
       "      <td>£685.88</td>\n",
       "    </tr>\n",
       "  </tbody>\n",
       "</table>\n",
       "</div>"
      ],
      "text/plain": [
       "  Publisher           Journal title  \\\n",
       "0       CUP  Psychological Medicine   \n",
       "1       ACS       Biomacromolecules   \n",
       "2       ACS              J Med Chem   \n",
       "3       ACS              J Med Chem   \n",
       "4       ACS              J Org Chem   \n",
       "\n",
       "                                       Article title      Cost  \n",
       "0  Reduced parahippocampal cortical thickness in ...     £0.00  \n",
       "1  Structural characterization of a Model Gram-ne...  £2381.04  \n",
       "2  Fumaroylamino-4,5-epoxymorphinans and related ...   £642.56  \n",
       "3  Orvinols with mixed kappa/mu opioid receptor a...   £669.64  \n",
       "4  Regioselective opening of myo-inositol orthoes...   £685.88  "
      ]
     },
     "execution_count": 5,
     "metadata": {},
     "output_type": "execute_result"
    }
   ],
   "source": [
    "# rename columns:\n",
    "df.rename(columns ={'COST (£) charged to Wellcome (inc VAT when charged)': 'Cost'}, inplace=True)\n",
    "df.head()"
   ]
  },
  {
   "cell_type": "code",
   "execution_count": 6,
   "metadata": {
    "collapsed": false
   },
   "outputs": [
    {
     "name": "stdout",
     "output_type": "stream",
     "text": [
      "Publisher        0\n",
      "Journal title    0\n",
      "Article title    0\n",
      "Cost             0\n",
      "dtype: int64\n"
     ]
    },
    {
     "data": {
      "text/html": [
       "<div>\n",
       "<table border=\"1\" class=\"dataframe\">\n",
       "  <thead>\n",
       "    <tr style=\"text-align: right;\">\n",
       "      <th></th>\n",
       "      <th>Publisher</th>\n",
       "      <th>Journal title</th>\n",
       "      <th>Article title</th>\n",
       "      <th>Cost</th>\n",
       "    </tr>\n",
       "  </thead>\n",
       "  <tbody>\n",
       "    <tr>\n",
       "      <th>986</th>\n",
       "      <td>MacMillan</td>\n",
       "      <td>Not provided</td>\n",
       "      <td>Fungal Disease in Britain and the United State...</td>\n",
       "      <td>£13200.00</td>\n",
       "    </tr>\n",
       "  </tbody>\n",
       "</table>\n",
       "</div>"
      ],
      "text/plain": [
       "     Publisher Journal title  \\\n",
       "986  MacMillan  Not provided   \n",
       "\n",
       "                                         Article title       Cost  \n",
       "986  Fungal Disease in Britain and the United State...  £13200.00  "
      ]
     },
     "execution_count": 6,
     "metadata": {},
     "output_type": "execute_result"
    }
   ],
   "source": [
    "# handle NANs:\n",
    "#print(df.loc[df['Journal title'].isnull()]) # looks like the \"Nan\" article is for McMillan\n",
    "#print(df.loc[df['Publisher'] == 'MacMillan']) # looks like there is only one article by this publisher\n",
    "# We'll keep the record, but replace Nan with a string:\n",
    "\n",
    "df.fillna('Not provided',inplace=True)\n",
    "\n",
    "#df.info()\n",
    "print(df.isnull().sum())\n",
    "df.loc[df['Publisher'] == 'MacMillan']"
   ]
  },
  {
   "cell_type": "code",
   "execution_count": 7,
   "metadata": {
    "collapsed": false
   },
   "outputs": [],
   "source": [
    "#df.head(1000)"
   ]
  },
  {
   "cell_type": "markdown",
   "metadata": {},
   "source": [
    "### 3). Standardize journal titles."
   ]
  },
  {
   "cell_type": "code",
   "execution_count": 8,
   "metadata": {
    "collapsed": false
   },
   "outputs": [],
   "source": [
    "#df['Journal title'].value_counts()"
   ]
  },
  {
   "cell_type": "code",
   "execution_count": 9,
   "metadata": {
    "collapsed": false
   },
   "outputs": [
    {
     "data": {
      "text/html": [
       "<div>\n",
       "<table border=\"1\" class=\"dataframe\">\n",
       "  <thead>\n",
       "    <tr style=\"text-align: right;\">\n",
       "      <th></th>\n",
       "      <th>Publisher</th>\n",
       "      <th>Journal title</th>\n",
       "      <th>Article title</th>\n",
       "      <th>Cost</th>\n",
       "    </tr>\n",
       "  </thead>\n",
       "  <tbody>\n",
       "    <tr>\n",
       "      <th>0</th>\n",
       "      <td>CUP</td>\n",
       "      <td>psychological medicine</td>\n",
       "      <td>Reduced parahippocampal cortical thickness in ...</td>\n",
       "      <td>£0.00</td>\n",
       "    </tr>\n",
       "    <tr>\n",
       "      <th>1</th>\n",
       "      <td>ACS</td>\n",
       "      <td>biomacromolecules</td>\n",
       "      <td>Structural characterization of a Model Gram-ne...</td>\n",
       "      <td>£2381.04</td>\n",
       "    </tr>\n",
       "    <tr>\n",
       "      <th>2</th>\n",
       "      <td>ACS</td>\n",
       "      <td>j med chem</td>\n",
       "      <td>Fumaroylamino-4,5-epoxymorphinans and related ...</td>\n",
       "      <td>£642.56</td>\n",
       "    </tr>\n",
       "    <tr>\n",
       "      <th>3</th>\n",
       "      <td>ACS</td>\n",
       "      <td>j med chem</td>\n",
       "      <td>Orvinols with mixed kappa/mu opioid receptor a...</td>\n",
       "      <td>£669.64</td>\n",
       "    </tr>\n",
       "    <tr>\n",
       "      <th>4</th>\n",
       "      <td>ACS</td>\n",
       "      <td>j org chem</td>\n",
       "      <td>Regioselective opening of myo-inositol orthoes...</td>\n",
       "      <td>£685.88</td>\n",
       "    </tr>\n",
       "  </tbody>\n",
       "</table>\n",
       "</div>"
      ],
      "text/plain": [
       "  Publisher           Journal title  \\\n",
       "0       CUP  psychological medicine   \n",
       "1       ACS       biomacromolecules   \n",
       "2       ACS              j med chem   \n",
       "3       ACS              j med chem   \n",
       "4       ACS              j org chem   \n",
       "\n",
       "                                       Article title      Cost  \n",
       "0  Reduced parahippocampal cortical thickness in ...     £0.00  \n",
       "1  Structural characterization of a Model Gram-ne...  £2381.04  \n",
       "2  Fumaroylamino-4,5-epoxymorphinans and related ...   £642.56  \n",
       "3  Orvinols with mixed kappa/mu opioid receptor a...   £669.64  \n",
       "4  Regioselective opening of myo-inositol orthoes...   £685.88  "
      ]
     },
     "execution_count": 9,
     "metadata": {},
     "output_type": "execute_result"
    }
   ],
   "source": [
    "# lowercase all journal titles:\n",
    "df['Journal title'] = df['Journal title'].str.lower()\n",
    "df.head()"
   ]
  },
  {
   "cell_type": "code",
   "execution_count": 10,
   "metadata": {
    "collapsed": false
   },
   "outputs": [
    {
     "data": {
      "text/html": [
       "<div>\n",
       "<table border=\"1\" class=\"dataframe\">\n",
       "  <thead>\n",
       "    <tr style=\"text-align: right;\">\n",
       "      <th></th>\n",
       "      <th>Publisher</th>\n",
       "      <th>Journal title</th>\n",
       "      <th>Article title</th>\n",
       "      <th>Cost</th>\n",
       "    </tr>\n",
       "  </thead>\n",
       "  <tbody>\n",
       "    <tr>\n",
       "      <th>0</th>\n",
       "      <td>CUP</td>\n",
       "      <td>psychological medicine</td>\n",
       "      <td>Reduced parahippocampal cortical thickness in ...</td>\n",
       "      <td>£0.00</td>\n",
       "    </tr>\n",
       "    <tr>\n",
       "      <th>1</th>\n",
       "      <td>ACS</td>\n",
       "      <td>biomacromolecules</td>\n",
       "      <td>Structural characterization of a Model Gram-ne...</td>\n",
       "      <td>£2381.04</td>\n",
       "    </tr>\n",
       "    <tr>\n",
       "      <th>2</th>\n",
       "      <td>ACS</td>\n",
       "      <td>j med chem</td>\n",
       "      <td>Fumaroylamino-4,5-epoxymorphinans and related ...</td>\n",
       "      <td>£642.56</td>\n",
       "    </tr>\n",
       "    <tr>\n",
       "      <th>3</th>\n",
       "      <td>ACS</td>\n",
       "      <td>j med chem</td>\n",
       "      <td>Orvinols with mixed kappa/mu opioid receptor a...</td>\n",
       "      <td>£669.64</td>\n",
       "    </tr>\n",
       "    <tr>\n",
       "      <th>4</th>\n",
       "      <td>ACS</td>\n",
       "      <td>j org chem</td>\n",
       "      <td>Regioselective opening of myo-inositol orthoes...</td>\n",
       "      <td>£685.88</td>\n",
       "    </tr>\n",
       "  </tbody>\n",
       "</table>\n",
       "</div>"
      ],
      "text/plain": [
       "  Publisher           Journal title  \\\n",
       "0       CUP  psychological medicine   \n",
       "1       ACS       biomacromolecules   \n",
       "2       ACS              j med chem   \n",
       "3       ACS              j med chem   \n",
       "4       ACS              j org chem   \n",
       "\n",
       "                                       Article title      Cost  \n",
       "0  Reduced parahippocampal cortical thickness in ...     £0.00  \n",
       "1  Structural characterization of a Model Gram-ne...  £2381.04  \n",
       "2  Fumaroylamino-4,5-epoxymorphinans and related ...   £642.56  \n",
       "3  Orvinols with mixed kappa/mu opioid receptor a...   £669.64  \n",
       "4  Regioselective opening of myo-inositol orthoes...   £685.88  "
      ]
     },
     "execution_count": 10,
     "metadata": {},
     "output_type": "execute_result"
    }
   ],
   "source": [
    "# Strip white spaces\n",
    "df['Journal title'] = df['Journal title'].str.strip()\n",
    "df.head()"
   ]
  },
  {
   "cell_type": "code",
   "execution_count": 11,
   "metadata": {
    "collapsed": false
   },
   "outputs": [
    {
     "data": {
      "text/plain": [
       "plos one                                                    190\n",
       "journal of biological chemistry                              53\n",
       "neuroimage                                                   29\n",
       "nucleic acids research                                       26\n",
       "plos genetics                                                24\n",
       "plos pathogens                                               24\n",
       "proceedings of the national academy of sciences              22\n",
       "plos neglected tropical diseases                             20\n",
       "nature communications                                        19\n",
       "human molecular genetics                                     19\n",
       "movement disorders                                           15\n",
       "brain                                                        14\n",
       "bmc public health                                            14\n",
       "journal of neuroscience                                      13\n",
       "developmental cell                                           12\n",
       "biochemical journal                                          12\n",
       "current biology                                              11\n",
       "journal of general virology                                  11\n",
       "bmj                                                          10\n",
       "malaria journal                                              10\n",
       "development                                                   9\n",
       "bmj open                                                      9\n",
       "cell reports                                                  9\n",
       "neuron                                                        9\n",
       "plosone                                                       9\n",
       "plos computational biology                                    9\n",
       "journal of virology                                           9\n",
       "journal of clinical endocrinology and metabolism              8\n",
       "proceedings of the royal society b: biological sciences       8\n",
       "neurobiology of aging                                         8\n",
       "                                                           ... \n",
       "fungal biology                                                1\n",
       "tetrahedron letters                                           1\n",
       "human mol genetics online                                     1\n",
       "journal of behaviour therapy and experimental psychiatry      1\n",
       "neurobiology of learning and memory                           1\n",
       "neuroinformatics                                              1\n",
       "international journal of experimental pathology               1\n",
       "journal of cheminformatics                                    1\n",
       "methods in molecular biology                                  1\n",
       "journal of molecular neuroscience                             1\n",
       "bmc medical imaging                                           1\n",
       "journal of clinical pathology                                 1\n",
       "journal of virol                                              1\n",
       "neurobiology of disease                                       1\n",
       "british journal of opthalmology                               1\n",
       "brain structure and function                                  1\n",
       "european child and adolescent psychiatry                      1\n",
       "immnunobiology                                                1\n",
       "evolutionary applications                                     1\n",
       "journal of archaeological science                             1\n",
       "pediatr infect dis j                                          1\n",
       "clinical neurology and neurosurgery                           1\n",
       "british medical bulletin                                      1\n",
       "stem cells and development                                    1\n",
       "cell and tissue research                                      1\n",
       "journal of applied crystallography                            1\n",
       "journal of comparative neurology                              1\n",
       "j steroid biochem mol biol                                    1\n",
       "international journal of health geographics                   1\n",
       "centaurus                                                     1\n",
       "Name: Journal title, dtype: int64"
      ]
     },
     "execution_count": 11,
     "metadata": {},
     "output_type": "execute_result"
    }
   ],
   "source": [
    "df['Journal title'].value_counts()\n"
   ]
  },
  {
   "cell_type": "markdown",
   "metadata": {
    "collapsed": true
   },
   "source": [
    "### 4). Clean up cost values."
   ]
  },
  {
   "cell_type": "code",
   "execution_count": 12,
   "metadata": {
    "collapsed": false
   },
   "outputs": [
    {
     "name": "stdout",
     "output_type": "stream",
     "text": [
      "<class 'pandas.core.frame.DataFrame'>\n",
      "RangeIndex: 2127 entries, 0 to 2126\n",
      "Data columns (total 4 columns):\n",
      "Publisher        2127 non-null object\n",
      "Journal title    2127 non-null object\n",
      "Article title    2127 non-null object\n",
      "Cost             2127 non-null float64\n",
      "dtypes: float64(1), object(3)\n",
      "memory usage: 66.5+ KB\n"
     ]
    }
   ],
   "source": [
    "# clean up values, change dtype to float:\n",
    "df['Cost'] = df['Cost'].str.replace('£','').str.replace('$','')\n",
    "df['Cost'] = df['Cost'].astype(np.float)\n",
    "\n",
    "df.head()\n",
    "df.info()"
   ]
  },
  {
   "cell_type": "code",
   "execution_count": 13,
   "metadata": {
    "collapsed": false
   },
   "outputs": [
    {
     "data": {
      "text/plain": [
       "count      2127.000000\n",
       "mean      24067.339972\n",
       "std      146860.665559\n",
       "min           0.000000\n",
       "25%        1280.000000\n",
       "50%        1884.010000\n",
       "75%        2321.305000\n",
       "max      999999.000000\n",
       "Name: Cost, dtype: float64"
      ]
     },
     "execution_count": 13,
     "metadata": {},
     "output_type": "execute_result"
    }
   ],
   "source": [
    "df['Cost'].describe() "
   ]
  },
  {
   "cell_type": "code",
   "execution_count": 14,
   "metadata": {
    "collapsed": false
   },
   "outputs": [
    {
     "data": {
      "image/png": "[encoded data removed]",
      "text/plain": [
       "<matplotlib.figure.Figure at 0x129b1852a58>"
      ]
     },
     "metadata": {},
     "output_type": "display_data"
    }
   ],
   "source": [
    "cost_graph = df['Cost']\n",
    "cost_graph\n",
    "\n",
    "plt.hist(cost_graph)\n",
    "plt.show()"
   ]
  },
  {
   "cell_type": "code",
   "execution_count": 15,
   "metadata": {
    "collapsed": false
   },
   "outputs": [
    {
     "data": {
      "text/html": [
       "<div>\n",
       "<table border=\"1\" class=\"dataframe\">\n",
       "  <thead>\n",
       "    <tr style=\"text-align: right;\">\n",
       "      <th></th>\n",
       "      <th>Cost</th>\n",
       "    </tr>\n",
       "    <tr>\n",
       "      <th>Journal title</th>\n",
       "      <th></th>\n",
       "    </tr>\n",
       "  </thead>\n",
       "  <tbody>\n",
       "    <tr>\n",
       "      <th>bmc genomics.</th>\n",
       "      <td>999999.0</td>\n",
       "    </tr>\n",
       "    <tr>\n",
       "      <th>cell</th>\n",
       "      <td>999999.0</td>\n",
       "    </tr>\n",
       "    <tr>\n",
       "      <th>cerebral cortex</th>\n",
       "      <td>999999.0</td>\n",
       "    </tr>\n",
       "    <tr>\n",
       "      <th>embo reports</th>\n",
       "      <td>999999.0</td>\n",
       "    </tr>\n",
       "    <tr>\n",
       "      <th>experimental cell research</th>\n",
       "      <td>999999.0</td>\n",
       "    </tr>\n",
       "    <tr>\n",
       "      <th>expert reviews in molecular medicine</th>\n",
       "      <td>999999.0</td>\n",
       "    </tr>\n",
       "    <tr>\n",
       "      <th>frontiers in cognition</th>\n",
       "      <td>999999.0</td>\n",
       "    </tr>\n",
       "    <tr>\n",
       "      <th>genetics in medicine</th>\n",
       "      <td>999999.0</td>\n",
       "    </tr>\n",
       "    <tr>\n",
       "      <th>hbm jnl human brain mapping</th>\n",
       "      <td>999999.0</td>\n",
       "    </tr>\n",
       "    <tr>\n",
       "      <th>hippocampus</th>\n",
       "      <td>999999.0</td>\n",
       "    </tr>\n",
       "    <tr>\n",
       "      <th>history of the human sciences</th>\n",
       "      <td>999999.0</td>\n",
       "    </tr>\n",
       "    <tr>\n",
       "      <th>human molecular genetics</th>\n",
       "      <td>999999.0</td>\n",
       "    </tr>\n",
       "    <tr>\n",
       "      <th>jnl biological chemistry</th>\n",
       "      <td>999999.0</td>\n",
       "    </tr>\n",
       "    <tr>\n",
       "      <th>journal of biological chemistry</th>\n",
       "      <td>999999.0</td>\n",
       "    </tr>\n",
       "    <tr>\n",
       "      <th>journal of cell science</th>\n",
       "      <td>999999.0</td>\n",
       "    </tr>\n",
       "    <tr>\n",
       "      <th>journal of neurochemistry</th>\n",
       "      <td>999999.0</td>\n",
       "    </tr>\n",
       "    <tr>\n",
       "      <th>journal of paediatric urology</th>\n",
       "      <td>999999.0</td>\n",
       "    </tr>\n",
       "    <tr>\n",
       "      <th>journal of physiology</th>\n",
       "      <td>999999.0</td>\n",
       "    </tr>\n",
       "    <tr>\n",
       "      <th>journal of the international african institute</th>\n",
       "      <td>999999.0</td>\n",
       "    </tr>\n",
       "    <tr>\n",
       "      <th>molecluar &amp; cellular endocrinology</th>\n",
       "      <td>999999.0</td>\n",
       "    </tr>\n",
       "    <tr>\n",
       "      <th>molecular cell</th>\n",
       "      <td>999999.0</td>\n",
       "    </tr>\n",
       "    <tr>\n",
       "      <th>nature communications</th>\n",
       "      <td>999999.0</td>\n",
       "    </tr>\n",
       "    <tr>\n",
       "      <th>oxford university press</th>\n",
       "      <td>999999.0</td>\n",
       "    </tr>\n",
       "    <tr>\n",
       "      <th>plos computational biology</th>\n",
       "      <td>999999.0</td>\n",
       "    </tr>\n",
       "    <tr>\n",
       "      <th>plos genetics</th>\n",
       "      <td>999999.0</td>\n",
       "    </tr>\n",
       "    <tr>\n",
       "      <th>plos one</th>\n",
       "      <td>999999.0</td>\n",
       "    </tr>\n",
       "    <tr>\n",
       "      <th>plos pathogens</th>\n",
       "      <td>999999.0</td>\n",
       "    </tr>\n",
       "    <tr>\n",
       "      <th>plosone</th>\n",
       "      <td>999999.0</td>\n",
       "    </tr>\n",
       "    <tr>\n",
       "      <th>pmedicine-d-12-03130</th>\n",
       "      <td>999999.0</td>\n",
       "    </tr>\n",
       "    <tr>\n",
       "      <th>pnas</th>\n",
       "      <td>999999.0</td>\n",
       "    </tr>\n",
       "    <tr>\n",
       "      <th>pone-d12-17947</th>\n",
       "      <td>999999.0</td>\n",
       "    </tr>\n",
       "    <tr>\n",
       "      <th>qualitative research</th>\n",
       "      <td>999999.0</td>\n",
       "    </tr>\n",
       "    <tr>\n",
       "      <th>the journal of cognitive neuroscience</th>\n",
       "      <td>999999.0</td>\n",
       "    </tr>\n",
       "    <tr>\n",
       "      <th>trends in neurosciences</th>\n",
       "      <td>999999.0</td>\n",
       "    </tr>\n",
       "    <tr>\n",
       "      <th>trends in parasitology</th>\n",
       "      <td>999999.0</td>\n",
       "    </tr>\n",
       "    <tr>\n",
       "      <th>trials</th>\n",
       "      <td>999999.0</td>\n",
       "    </tr>\n",
       "    <tr>\n",
       "      <th>veterinary parasitology</th>\n",
       "      <td>999999.0</td>\n",
       "    </tr>\n",
       "    <tr>\n",
       "      <th>vision research</th>\n",
       "      <td>999999.0</td>\n",
       "    </tr>\n",
       "  </tbody>\n",
       "</table>\n",
       "</div>"
      ],
      "text/plain": [
       "                                                    Cost\n",
       "Journal title                                           \n",
       "bmc genomics.                                   999999.0\n",
       "cell                                            999999.0\n",
       "cerebral cortex                                 999999.0\n",
       "embo reports                                    999999.0\n",
       "experimental cell research                      999999.0\n",
       "expert reviews in molecular medicine            999999.0\n",
       "frontiers in cognition                          999999.0\n",
       "genetics in medicine                            999999.0\n",
       "hbm jnl human brain mapping                     999999.0\n",
       "hippocampus                                     999999.0\n",
       "history of the human sciences                   999999.0\n",
       "human molecular genetics                        999999.0\n",
       "jnl biological chemistry                        999999.0\n",
       "journal of biological chemistry                 999999.0\n",
       "journal of cell science                         999999.0\n",
       "journal of neurochemistry                       999999.0\n",
       "journal of paediatric urology                   999999.0\n",
       "journal of physiology                           999999.0\n",
       "journal of the international african institute  999999.0\n",
       "molecluar & cellular endocrinology              999999.0\n",
       "molecular cell                                  999999.0\n",
       "nature communications                           999999.0\n",
       "oxford university press                         999999.0\n",
       "plos computational biology                      999999.0\n",
       "plos genetics                                   999999.0\n",
       "plos one                                        999999.0\n",
       "plos pathogens                                  999999.0\n",
       "plosone                                         999999.0\n",
       "pmedicine-d-12-03130                            999999.0\n",
       "pnas                                            999999.0\n",
       "pone-d12-17947                                  999999.0\n",
       "qualitative research                            999999.0\n",
       "the journal of cognitive neuroscience           999999.0\n",
       "trends in neurosciences                         999999.0\n",
       "trends in parasitology                          999999.0\n",
       "trials                                          999999.0\n",
       "veterinary parasitology                         999999.0\n",
       "vision research                                 999999.0"
      ]
     },
     "execution_count": 15,
     "metadata": {},
     "output_type": "execute_result"
    }
   ],
   "source": [
    "# Review outliers such as articles that cost \"0.00\" and \"999,999\"\n",
    "df[df['Cost'] == 0.00] # One article costs \"0.00\" - could be wither a free article or a mistake\n",
    "df[df['Cost'] == 999999.00] # Various articles by various publishers cost this much; interesting to investigate why\n",
    "\n",
    "new_df = df[df['Cost'] == 999999.00]\n",
    "new_df.head()\n",
    "\n",
    "publishers = new_df.groupby('Journal title').mean()\n",
    "\n",
    "publishers # Journals that have articles prices at 999999 -- something to keep in mind when answering questions below."
   ]
  },
  {
   "cell_type": "markdown",
   "metadata": {
    "collapsed": true
   },
   "source": [
    "## Data Analysis \n",
    "\n",
    "### 1). Five most common journals and total articles for each\n"
   ]
  },
  {
   "cell_type": "code",
   "execution_count": 16,
   "metadata": {
    "collapsed": false
   },
   "outputs": [
    {
     "data": {
      "text/plain": [
       "plos one                           190\n",
       "journal of biological chemistry     53\n",
       "neuroimage                          29\n",
       "nucleic acids research              26\n",
       "plos genetics                       24\n",
       "Name: Journal title, dtype: int64"
      ]
     },
     "execution_count": 16,
     "metadata": {},
     "output_type": "execute_result"
    }
   ],
   "source": [
    "df.head(50)\n",
    "\n",
    "journals = df['Journal title'].value_counts()\n",
    "journals[0:5]"
   ]
  },
  {
   "cell_type": "markdown",
   "metadata": {},
   "source": [
    "### 2). Mean, median and std for cost per articles for each journal."
   ]
  },
  {
   "cell_type": "code",
   "execution_count": 17,
   "metadata": {
    "collapsed": false
   },
   "outputs": [],
   "source": [
    "def journal_stats(x): \n",
    "\n",
    "    df_new = df[df['Journal title'] == x]\n",
    "\n",
    "    mean_cost = df_new['Cost'].mean()\n",
    "    median_cost = df_new['Cost'].median()\n",
    "    std_cost = df_new['Cost'].std()\n",
    "\n",
    "    print('Journal title:',x,'\\n Mean:',mean_cost,'\\nMedian:',median_cost,'\\nStandard deviation:',std_cost,'\\n\\n')\n"
   ]
  },
  {
   "cell_type": "code",
   "execution_count": 18,
   "metadata": {
    "collapsed": false
   },
   "outputs": [
    {
     "name": "stdout",
     "output_type": "stream",
     "text": [
      "Journal title: plos one \n",
      " Mean: 38751.29136842105 \n",
      "Median: 898.475 \n",
      "Standard deviation: 189009.51197380977 \n",
      "\n",
      "\n",
      "None\n",
      "Journal title: journal of biological chemistry \n",
      " Mean: 20264.63396226415 \n",
      "Median: 1314.53 \n",
      "Standard deviation: 137165.48839818343 \n",
      "\n",
      "\n",
      "None\n",
      "Journal title: neuroimage \n",
      " Mean: 2215.168275862069 \n",
      "Median: 2326.43 \n",
      "Standard deviation: 266.65394691928987 \n",
      "\n",
      "\n",
      "None\n",
      "Journal title: nucleic acids research \n",
      " Mean: 1149.0 \n",
      "Median: 852.0 \n",
      "Standard deviation: 442.9404474644419 \n",
      "\n",
      "\n",
      "None\n",
      "Journal title: plos pathogens \n",
      " Mean: 84775.04458333335 \n",
      "Median: 1600.52 \n",
      "Standard deviation: 281885.54408993816 \n",
      "\n",
      "\n",
      "None\n"
     ]
    }
   ],
   "source": [
    "print(journal_stats('plos one'))\n",
    "print(journal_stats('journal of biological chemistry'))\n",
    "print(journal_stats('neuroimage'))\n",
    "print(journal_stats('nucleic acids research'))\n",
    "print(journal_stats('plos pathogens'))"
   ]
  }
 ],
 "metadata": {
  "kernelspec": {
   "display_name": "Python 3",
   "language": "python",
   "name": "python3"
  },
  "language_info": {
   "codemirror_mode": {
    "name": "ipython",
    "version": 3
   },
   "file_extension": ".py",
   "mimetype": "text/x-python",
   "name": "python",
   "nbconvert_exporter": "python",
   "pygments_lexer": "ipython3",
   "version": "3.5.1"
  }
 },
 "nbformat": 4,
 "nbformat_minor": 0
}
